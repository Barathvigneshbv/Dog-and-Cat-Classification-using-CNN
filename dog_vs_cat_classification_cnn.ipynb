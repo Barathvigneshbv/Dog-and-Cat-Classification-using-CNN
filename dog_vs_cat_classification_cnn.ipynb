{
  "nbformat": 4,
  "nbformat_minor": 0,
  "metadata": {
    "colab": {
      "name": "dog vs cat classification cnn.ipynb",
      "provenance": [],
      "collapsed_sections": []
    },
    "kernelspec": {
      "name": "python3",
      "display_name": "Python 3"
    },
    "accelerator": "GPU"
  },
  "cells": [
    {
      "cell_type": "markdown",
      "metadata": {
        "id": "3DR-eO17geWu",
        "colab_type": "text"
      },
      "source": [
        "# Convolutional Neural Network"
      ]
    },
    {
      "cell_type": "code",
      "metadata": {
        "id": "ub9COMrJWlip",
        "colab_type": "code",
        "colab": {
          "base_uri": "https://localhost:8080/",
          "height": 121
        },
        "outputId": "032e6393-2c83-4a9e-a1bd-60473d13a8a7"
      },
      "source": [
        "from google.colab import drive\n",
        "drive.mount('/content/drive')"
      ],
      "execution_count": 3,
      "outputs": [
        {
          "output_type": "stream",
          "text": [
            "Go to this URL in a browser: https://accounts.google.com/o/oauth2/auth?client_id=947318989803-6bn6qk8qdgf4n4g3pfee6491hc0brc4i.apps.googleusercontent.com&redirect_uri=urn%3aietf%3awg%3aoauth%3a2.0%3aoob&response_type=code&scope=email%20https%3a%2f%2fwww.googleapis.com%2fauth%2fdocs.test%20https%3a%2f%2fwww.googleapis.com%2fauth%2fdrive%20https%3a%2f%2fwww.googleapis.com%2fauth%2fdrive.photos.readonly%20https%3a%2f%2fwww.googleapis.com%2fauth%2fpeopleapi.readonly\n",
            "\n",
            "Enter your authorization code:\n",
            "··········\n",
            "Mounted at /content/drive\n"
          ],
          "name": "stdout"
        }
      ]
    },
    {
      "cell_type": "code",
      "metadata": {
        "id": "tfCNuFwmY2uP",
        "colab_type": "code",
        "colab": {
          "base_uri": "https://localhost:8080/",
          "height": 35
        },
        "outputId": "66802ad6-9df9-4c3a-dab4-70720c63f4f7"
      },
      "source": [
        "import os\n",
        "os.getcwd()"
      ],
      "execution_count": 4,
      "outputs": [
        {
          "output_type": "execute_result",
          "data": {
            "application/vnd.google.colaboratory.intrinsic+json": {
              "type": "string"
            },
            "text/plain": [
              "'/content'"
            ]
          },
          "metadata": {
            "tags": []
          },
          "execution_count": 4
        }
      ]
    },
    {
      "cell_type": "code",
      "metadata": {
        "id": "T6PFAG13Y5VO",
        "colab_type": "code",
        "colab": {
          "base_uri": "https://localhost:8080/",
          "height": 34
        },
        "outputId": "0f1180bb-49bb-4f18-a0eb-9fbe4b287ab8"
      },
      "source": [
        "os.listdir('drive/My Drive/dataset')"
      ],
      "execution_count": 5,
      "outputs": [
        {
          "output_type": "execute_result",
          "data": {
            "text/plain": [
              "['.DS_Store', 'test_set', 'single_prediction', 'training_set']"
            ]
          },
          "metadata": {
            "tags": []
          },
          "execution_count": 5
        }
      ]
    },
    {
      "cell_type": "markdown",
      "metadata": {
        "id": "EMefrVPCg-60",
        "colab_type": "text"
      },
      "source": [
        "### Importing the libraries"
      ]
    },
    {
      "cell_type": "code",
      "metadata": {
        "id": "sCV30xyVhFbE",
        "colab_type": "code",
        "colab": {
          "base_uri": "https://localhost:8080/",
          "height": 34
        },
        "outputId": "8e44d332-2b29-4200-9815-bcd3faeeb770"
      },
      "source": [
        "import tensorflow as tf\n",
        "from keras.preprocessing.image import ImageDataGenerator"
      ],
      "execution_count": 6,
      "outputs": [
        {
          "output_type": "stream",
          "text": [
            "Using TensorFlow backend.\n"
          ],
          "name": "stderr"
        }
      ]
    },
    {
      "cell_type": "code",
      "metadata": {
        "id": "FIleuCAjoFD8",
        "colab_type": "code",
        "colab": {
          "base_uri": "https://localhost:8080/",
          "height": 35
        },
        "outputId": "1273362a-b395-48e6-976c-44616513d1ff"
      },
      "source": [
        "tf.__version__"
      ],
      "execution_count": 7,
      "outputs": [
        {
          "output_type": "execute_result",
          "data": {
            "application/vnd.google.colaboratory.intrinsic+json": {
              "type": "string"
            },
            "text/plain": [
              "'2.2.0'"
            ]
          },
          "metadata": {
            "tags": []
          },
          "execution_count": 7
        }
      ]
    },
    {
      "cell_type": "markdown",
      "metadata": {
        "id": "oxQxCBWyoGPE",
        "colab_type": "text"
      },
      "source": [
        "## Part 1 - Data Preprocessing"
      ]
    },
    {
      "cell_type": "markdown",
      "metadata": {
        "id": "y8K74-1foOic",
        "colab_type": "text"
      },
      "source": [
        "### Generating images for the Training set"
      ]
    },
    {
      "cell_type": "code",
      "metadata": {
        "id": "OlH2WYQ5ocVO",
        "colab_type": "code",
        "colab": {}
      },
      "source": [
        "train_datagen = ImageDataGenerator(rescale = 1./255,\n",
        "                                   shear_range = 0.2,\n",
        "                                   zoom_range = 0.2,\n",
        "                                   horizontal_flip = True)"
      ],
      "execution_count": 8,
      "outputs": []
    },
    {
      "cell_type": "markdown",
      "metadata": {
        "id": "LXXei7qHornJ",
        "colab_type": "text"
      },
      "source": [
        "### Generating images for the Test set"
      ]
    },
    {
      "cell_type": "code",
      "metadata": {
        "id": "T9It49laowGX",
        "colab_type": "code",
        "colab": {}
      },
      "source": [
        "test_datagen = ImageDataGenerator(rescale = 1./255)"
      ],
      "execution_count": 9,
      "outputs": []
    },
    {
      "cell_type": "markdown",
      "metadata": {
        "id": "MvE-heJNo3GG",
        "colab_type": "text"
      },
      "source": [
        "### Creating the Training set"
      ]
    },
    {
      "cell_type": "code",
      "metadata": {
        "id": "0koUcJMJpEBD",
        "colab_type": "code",
        "colab": {
          "base_uri": "https://localhost:8080/",
          "height": 34
        },
        "outputId": "f85dca42-82a2-49d6-b155-2bfd885b9c7f"
      },
      "source": [
        "training_set = train_datagen.flow_from_directory('drive/My Drive/dataset/training_set',\n",
        "                                                 target_size = (64, 64),\n",
        "                                                 batch_size = 32,\n",
        "                                                 class_mode = 'binary')"
      ],
      "execution_count": 10,
      "outputs": [
        {
          "output_type": "stream",
          "text": [
            "Found 8010 images belonging to 2 classes.\n"
          ],
          "name": "stdout"
        }
      ]
    },
    {
      "cell_type": "markdown",
      "metadata": {
        "id": "mrCMmGw9pHys",
        "colab_type": "text"
      },
      "source": [
        "### Creating the Test set"
      ]
    },
    {
      "cell_type": "code",
      "metadata": {
        "id": "SH4WzfOhpKc3",
        "colab_type": "code",
        "colab": {
          "base_uri": "https://localhost:8080/",
          "height": 34
        },
        "outputId": "e6e7d6cf-5ab3-40c4-fad1-09744c6d7668"
      },
      "source": [
        "test_set = test_datagen.flow_from_directory('drive/My Drive/dataset/test_set',\n",
        "                                            target_size = (64, 64),\n",
        "                                            batch_size = 32,\n",
        "                                            class_mode = 'binary')"
      ],
      "execution_count": 11,
      "outputs": [
        {
          "output_type": "stream",
          "text": [
            "Found 2010 images belonging to 2 classes.\n"
          ],
          "name": "stdout"
        }
      ]
    },
    {
      "cell_type": "markdown",
      "metadata": {
        "id": "af8O4l90gk7B",
        "colab_type": "text"
      },
      "source": [
        "## Part 2 - Building the CNN"
      ]
    },
    {
      "cell_type": "markdown",
      "metadata": {
        "id": "ces1gXY2lmoX",
        "colab_type": "text"
      },
      "source": [
        "### Initialising the CNN"
      ]
    },
    {
      "cell_type": "code",
      "metadata": {
        "id": "SAUt4UMPlhLS",
        "colab_type": "code",
        "colab": {}
      },
      "source": [
        "cnn = tf.keras.models.Sequential()"
      ],
      "execution_count": 12,
      "outputs": []
    },
    {
      "cell_type": "markdown",
      "metadata": {
        "id": "u5YJj_XMl5LF",
        "colab_type": "text"
      },
      "source": [
        "### Step 1 - Convolution"
      ]
    },
    {
      "cell_type": "code",
      "metadata": {
        "id": "XPzPrMckl-hV",
        "colab_type": "code",
        "colab": {}
      },
      "source": [
        "cnn.add(tf.keras.layers.Conv2D(filters=32, kernel_size=3, padding=\"same\", activation=\"relu\", input_shape=[64, 64, 3]))"
      ],
      "execution_count": 13,
      "outputs": []
    },
    {
      "cell_type": "markdown",
      "metadata": {
        "id": "tf87FpvxmNOJ",
        "colab_type": "text"
      },
      "source": [
        "### Step 2 - Pooling"
      ]
    },
    {
      "cell_type": "code",
      "metadata": {
        "id": "ncpqPl69mOac",
        "colab_type": "code",
        "colab": {}
      },
      "source": [
        "cnn.add(tf.keras.layers.MaxPool2D(pool_size=2, strides=2, padding='valid'))"
      ],
      "execution_count": 14,
      "outputs": []
    },
    {
      "cell_type": "markdown",
      "metadata": {
        "id": "xaTOgD8rm4mU",
        "colab_type": "text"
      },
      "source": [
        "### Adding a second convolutional layer"
      ]
    },
    {
      "cell_type": "code",
      "metadata": {
        "id": "i_-FZjn_m8gk",
        "colab_type": "code",
        "colab": {}
      },
      "source": [
        "cnn.add(tf.keras.layers.Conv2D(filters=32, kernel_size=3, padding=\"same\", activation=\"relu\"))\n",
        "cnn.add(tf.keras.layers.MaxPool2D(pool_size=2, strides=2, padding='valid'))"
      ],
      "execution_count": 15,
      "outputs": []
    },
    {
      "cell_type": "markdown",
      "metadata": {
        "id": "tmiEuvTunKfk",
        "colab_type": "text"
      },
      "source": [
        "### Step 3 - Flattening"
      ]
    },
    {
      "cell_type": "code",
      "metadata": {
        "id": "6AZeOGCvnNZn",
        "colab_type": "code",
        "colab": {}
      },
      "source": [
        "cnn.add(tf.keras.layers.Flatten())"
      ],
      "execution_count": 16,
      "outputs": []
    },
    {
      "cell_type": "markdown",
      "metadata": {
        "id": "dAoSECOm203v",
        "colab_type": "text"
      },
      "source": [
        "### Step 4 - Full Connection"
      ]
    },
    {
      "cell_type": "code",
      "metadata": {
        "id": "8GtmUlLd26Nq",
        "colab_type": "code",
        "colab": {}
      },
      "source": [
        "cnn.add(tf.keras.layers.Dense(units=128, activation='relu'))"
      ],
      "execution_count": 17,
      "outputs": []
    },
    {
      "cell_type": "markdown",
      "metadata": {
        "id": "yTldFvbX28Na",
        "colab_type": "text"
      },
      "source": [
        "### Step 5 - Output Layer"
      ]
    },
    {
      "cell_type": "code",
      "metadata": {
        "id": "1p_Zj1Mc3Ko_",
        "colab_type": "code",
        "colab": {}
      },
      "source": [
        "cnn.add(tf.keras.layers.Dense(units=1, activation='sigmoid'))"
      ],
      "execution_count": 18,
      "outputs": []
    },
    {
      "cell_type": "markdown",
      "metadata": {
        "id": "D6XkI90snSDl",
        "colab_type": "text"
      },
      "source": [
        "## Part 3 - Training the CNN"
      ]
    },
    {
      "cell_type": "markdown",
      "metadata": {
        "id": "vfrFQACEnc6i",
        "colab_type": "text"
      },
      "source": [
        "### Compiling the CNN"
      ]
    },
    {
      "cell_type": "code",
      "metadata": {
        "id": "NALksrNQpUlJ",
        "colab_type": "code",
        "colab": {}
      },
      "source": [
        "cnn.compile(optimizer = 'adam', loss = 'binary_crossentropy', metrics = ['accuracy'])"
      ],
      "execution_count": 19,
      "outputs": []
    },
    {
      "cell_type": "markdown",
      "metadata": {
        "id": "ehS-v3MIpX2h",
        "colab_type": "text"
      },
      "source": [
        "### Training the CNN on the Training set and evaluating it on the Test set"
      ]
    },
    {
      "cell_type": "code",
      "metadata": {
        "id": "XUj1W4PJptta",
        "colab_type": "code",
        "colab": {
          "base_uri": "https://localhost:8080/",
          "height": 924
        },
        "outputId": "80696135-b6ba-4ddd-895b-14d0388f62d7"
      },
      "source": [
        "cnn.fit_generator(training_set,\n",
        "                  steps_per_epoch = 15,\n",
        "                  epochs = 25,\n",
        "                  validation_data = test_set,\n",
        "                  validation_steps = 15)"
      ],
      "execution_count": 20,
      "outputs": [
        {
          "output_type": "stream",
          "text": [
            "WARNING:tensorflow:From <ipython-input-20-533360fce518>:5: Model.fit_generator (from tensorflow.python.keras.engine.training) is deprecated and will be removed in a future version.\n",
            "Instructions for updating:\n",
            "Please use Model.fit, which supports generators.\n",
            "Epoch 1/25\n",
            "15/15 [==============================] - 493s 33s/step - loss: 0.7644 - accuracy: 0.5188 - val_loss: 0.6907 - val_accuracy: 0.5875\n",
            "Epoch 2/25\n",
            "15/15 [==============================] - 388s 26s/step - loss: 0.6934 - accuracy: 0.5042 - val_loss: 0.6891 - val_accuracy: 0.5104\n",
            "Epoch 3/25\n",
            "15/15 [==============================] - 342s 23s/step - loss: 0.6902 - accuracy: 0.5146 - val_loss: 0.6832 - val_accuracy: 0.5250\n",
            "Epoch 4/25\n",
            "15/15 [==============================] - 290s 19s/step - loss: 0.6903 - accuracy: 0.5042 - val_loss: 0.6992 - val_accuracy: 0.4896\n",
            "Epoch 5/25\n",
            "15/15 [==============================] - 248s 17s/step - loss: 0.6903 - accuracy: 0.5188 - val_loss: 0.6889 - val_accuracy: 0.5708\n",
            "Epoch 6/25\n",
            "15/15 [==============================] - 230s 15s/step - loss: 0.6873 - accuracy: 0.5646 - val_loss: 0.6849 - val_accuracy: 0.5021\n",
            "Epoch 7/25\n",
            "15/15 [==============================] - 195s 13s/step - loss: 0.6895 - accuracy: 0.5417 - val_loss: 0.6767 - val_accuracy: 0.6333\n",
            "Epoch 8/25\n",
            "15/15 [==============================] - 180s 12s/step - loss: 0.6870 - accuracy: 0.5479 - val_loss: 0.6784 - val_accuracy: 0.5979\n",
            "Epoch 9/25\n",
            "15/15 [==============================] - 161s 11s/step - loss: 0.6746 - accuracy: 0.6021 - val_loss: 0.6594 - val_accuracy: 0.6146\n",
            "Epoch 10/25\n",
            "15/15 [==============================] - 148s 10s/step - loss: 0.6654 - accuracy: 0.5833 - val_loss: 0.6413 - val_accuracy: 0.6396\n",
            "Epoch 11/25\n",
            "15/15 [==============================] - 138s 9s/step - loss: 0.6395 - accuracy: 0.6542 - val_loss: 0.6232 - val_accuracy: 0.6562\n",
            "Epoch 12/25\n",
            "15/15 [==============================] - 123s 8s/step - loss: 0.6694 - accuracy: 0.6083 - val_loss: 0.6177 - val_accuracy: 0.6687\n",
            "Epoch 13/25\n",
            "15/15 [==============================] - 120s 8s/step - loss: 0.6392 - accuracy: 0.6562 - val_loss: 0.6098 - val_accuracy: 0.7083\n",
            "Epoch 14/25\n",
            "15/15 [==============================] - 110s 7s/step - loss: 0.6425 - accuracy: 0.6417 - val_loss: 0.6020 - val_accuracy: 0.6687\n",
            "Epoch 15/25\n",
            "15/15 [==============================] - 90s 6s/step - loss: 0.6325 - accuracy: 0.6458 - val_loss: 0.5782 - val_accuracy: 0.7146\n",
            "Epoch 16/25\n",
            "15/15 [==============================] - 96s 6s/step - loss: 0.6444 - accuracy: 0.6354 - val_loss: 0.6710 - val_accuracy: 0.5854\n",
            "Epoch 17/25\n",
            "15/15 [==============================] - 88s 6s/step - loss: 0.5937 - accuracy: 0.6833 - val_loss: 0.6154 - val_accuracy: 0.6521\n",
            "Epoch 18/25\n",
            "15/15 [==============================] - 69s 5s/step - loss: 0.6056 - accuracy: 0.6729 - val_loss: 0.6701 - val_accuracy: 0.6083\n",
            "Epoch 19/25\n",
            "15/15 [==============================] - 68s 5s/step - loss: 0.5761 - accuracy: 0.6875 - val_loss: 0.6490 - val_accuracy: 0.6396\n",
            "Epoch 20/25\n",
            "15/15 [==============================] - 65s 4s/step - loss: 0.6145 - accuracy: 0.6507 - val_loss: 0.5855 - val_accuracy: 0.6771\n",
            "Epoch 21/25\n",
            "15/15 [==============================] - 68s 5s/step - loss: 0.6120 - accuracy: 0.6604 - val_loss: 0.6209 - val_accuracy: 0.6646\n",
            "Epoch 22/25\n",
            "15/15 [==============================] - 62s 4s/step - loss: 0.5924 - accuracy: 0.6750 - val_loss: 0.5949 - val_accuracy: 0.6812\n",
            "Epoch 23/25\n",
            "15/15 [==============================] - 64s 4s/step - loss: 0.5468 - accuracy: 0.7312 - val_loss: 0.5632 - val_accuracy: 0.7229\n",
            "Epoch 24/25\n",
            "15/15 [==============================] - 57s 4s/step - loss: 0.6212 - accuracy: 0.6854 - val_loss: 0.5956 - val_accuracy: 0.7000\n",
            "Epoch 25/25\n",
            "15/15 [==============================] - 52s 3s/step - loss: 0.6201 - accuracy: 0.6729 - val_loss: 0.5555 - val_accuracy: 0.7229\n"
          ],
          "name": "stdout"
        },
        {
          "output_type": "execute_result",
          "data": {
            "text/plain": [
              "<tensorflow.python.keras.callbacks.History at 0x7f60372f6128>"
            ]
          },
          "metadata": {
            "tags": []
          },
          "execution_count": 20
        }
      ]
    },
    {
      "cell_type": "code",
      "metadata": {
        "id": "ThtXHcyRoSVR",
        "colab_type": "code",
        "colab": {}
      },
      "source": [
        "#Making a single prediction\n",
        "import numpy  as np\n",
        "from keras.preprocessing import image\n",
        "test_image = image.load_img('drive/My Drive/dataset/single_prediction/cat_or_dog_1.jpg',target_size=(64,64))\n",
        "test_image = image.img_to_array(test_image)\n",
        "test_image = np.expand_dims(test_image,axis = 0)\n",
        "result = cnn.predict(test_image)\n",
        "training_set.class_indices\n",
        "if result[0][0] == 1:\n",
        "  prediction = 'dog'\n",
        "else:\n",
        "  prediction = 'cat'"
      ],
      "execution_count": 22,
      "outputs": []
    },
    {
      "cell_type": "code",
      "metadata": {
        "id": "4OsfiuyxrzGN",
        "colab_type": "code",
        "colab": {
          "base_uri": "https://localhost:8080/",
          "height": 34
        },
        "outputId": "d6449c64-5894-4084-a9dd-acf3878eee72"
      },
      "source": [
        "print(prediction)"
      ],
      "execution_count": 23,
      "outputs": [
        {
          "output_type": "stream",
          "text": [
            "dog\n"
          ],
          "name": "stdout"
        }
      ]
    }
  ]
}